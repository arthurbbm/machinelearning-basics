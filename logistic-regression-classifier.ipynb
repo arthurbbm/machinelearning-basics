{
 "cells": [
  {
   "cell_type": "markdown",
   "metadata": {},
   "source": [
    "# Classification template\n",
    "\n",
    "## Importing the libraries"
   ]
  },
  {
   "cell_type": "code",
   "execution_count": 1,
   "metadata": {},
   "outputs": [
    {
     "name": "stdout",
     "output_type": "stream",
     "text": [
      "Requirement already satisfied: astroid==2.4.2 in /home/oem/UNB/DL/lib/python3.8/site-packages (from -r requirements.txt (line 1)) (2.4.2)\n",
      "Requirement already satisfied: backcall==0.2.0 in /home/oem/UNB/DL/lib/python3.8/site-packages (from -r requirements.txt (line 2)) (0.2.0)\n",
      "Requirement already satisfied: certifi==2020.6.20 in /home/oem/UNB/DL/lib/python3.8/site-packages (from -r requirements.txt (line 3)) (2020.6.20)\n",
      "Requirement already satisfied: cycler==0.10.0 in /home/oem/UNB/DL/lib/python3.8/site-packages (from -r requirements.txt (line 4)) (0.10.0)\n",
      "Requirement already satisfied: decorator==4.4.2 in /home/oem/UNB/DL/lib/python3.8/site-packages (from -r requirements.txt (line 5)) (4.4.2)\n",
      "Requirement already satisfied: ipython==7.18.0 in /home/oem/UNB/DL/lib/python3.8/site-packages (from -r requirements.txt (line 6)) (7.18.0)\n",
      "Requirement already satisfied: ipython-genutils==0.2.0 in /home/oem/UNB/DL/lib/python3.8/site-packages (from -r requirements.txt (line 7)) (0.2.0)\n",
      "Requirement already satisfied: isort==5.4.2 in /home/oem/UNB/DL/lib/python3.8/site-packages (from -r requirements.txt (line 8)) (5.4.2)\n",
      "Requirement already satisfied: jedi==0.17.2 in /home/oem/UNB/DL/lib/python3.8/site-packages (from -r requirements.txt (line 9)) (0.17.2)\n",
      "Requirement already satisfied: joblib==0.16.0 in /home/oem/UNB/DL/lib/python3.8/site-packages (from -r requirements.txt (line 10)) (0.16.0)\n",
      "Requirement already satisfied: kiwisolver==1.2.0 in /home/oem/UNB/DL/lib/python3.8/site-packages (from -r requirements.txt (line 11)) (1.2.0)\n",
      "Requirement already satisfied: lazy-object-proxy==1.4.3 in /home/oem/UNB/DL/lib/python3.8/site-packages (from -r requirements.txt (line 12)) (1.4.3)\n",
      "Requirement already satisfied: matplotlib==3.3.1 in /home/oem/UNB/DL/lib/python3.8/site-packages (from -r requirements.txt (line 13)) (3.3.1)\n",
      "Requirement already satisfied: mccabe==0.6.1 in /home/oem/UNB/DL/lib/python3.8/site-packages (from -r requirements.txt (line 14)) (0.6.1)\n",
      "Requirement already satisfied: numpy==1.19.1 in /home/oem/UNB/DL/lib/python3.8/site-packages (from -r requirements.txt (line 15)) (1.19.1)\n",
      "Requirement already satisfied: pandas==1.1.1 in /home/oem/UNB/DL/lib/python3.8/site-packages (from -r requirements.txt (line 16)) (1.1.1)\n",
      "Requirement already satisfied: parso==0.7.1 in /home/oem/UNB/DL/lib/python3.8/site-packages (from -r requirements.txt (line 17)) (0.7.1)\n",
      "Requirement already satisfied: pexpect==4.8.0 in /home/oem/UNB/DL/lib/python3.8/site-packages (from -r requirements.txt (line 18)) (4.8.0)\n",
      "Requirement already satisfied: pickleshare==0.7.5 in /home/oem/UNB/DL/lib/python3.8/site-packages (from -r requirements.txt (line 19)) (0.7.5)\n",
      "Requirement already satisfied: Pillow==7.2.0 in /home/oem/UNB/DL/lib/python3.8/site-packages (from -r requirements.txt (line 20)) (7.2.0)\n",
      "Requirement already satisfied: prompt-toolkit==3.0.6 in /home/oem/UNB/DL/lib/python3.8/site-packages (from -r requirements.txt (line 21)) (3.0.6)\n",
      "Requirement already satisfied: ptyprocess==0.6.0 in /home/oem/UNB/DL/lib/python3.8/site-packages (from -r requirements.txt (line 22)) (0.6.0)\n",
      "Requirement already satisfied: Pygments==2.6.1 in /home/oem/UNB/DL/lib/python3.8/site-packages (from -r requirements.txt (line 23)) (2.6.1)\n",
      "Requirement already satisfied: pylint==2.6.0 in /home/oem/UNB/DL/lib/python3.8/site-packages (from -r requirements.txt (line 24)) (2.6.0)\n",
      "Requirement already satisfied: pyparsing==2.4.7 in /home/oem/UNB/DL/lib/python3.8/site-packages (from -r requirements.txt (line 25)) (2.4.7)\n",
      "Requirement already satisfied: python-dateutil==2.8.1 in /home/oem/UNB/DL/lib/python3.8/site-packages (from -r requirements.txt (line 26)) (2.8.1)\n",
      "Requirement already satisfied: pytz==2020.1 in /home/oem/UNB/DL/lib/python3.8/site-packages (from -r requirements.txt (line 27)) (2020.1)\n",
      "Requirement already satisfied: scikit-learn==0.23.2 in /home/oem/UNB/DL/lib/python3.8/site-packages (from -r requirements.txt (line 28)) (0.23.2)\n",
      "Requirement already satisfied: scipy==1.5.2 in /home/oem/UNB/DL/lib/python3.8/site-packages (from -r requirements.txt (line 29)) (1.5.2)\n",
      "Requirement already satisfied: six==1.15.0 in /home/oem/UNB/DL/lib/python3.8/site-packages (from -r requirements.txt (line 30)) (1.15.0)\n",
      "Requirement already satisfied: sklearn==0.0 in /home/oem/UNB/DL/lib/python3.8/site-packages (from -r requirements.txt (line 31)) (0.0)\n",
      "Requirement already satisfied: threadpoolctl==2.1.0 in /home/oem/UNB/DL/lib/python3.8/site-packages (from -r requirements.txt (line 32)) (2.1.0)\n",
      "Requirement already satisfied: toml==0.10.1 in /home/oem/UNB/DL/lib/python3.8/site-packages (from -r requirements.txt (line 33)) (0.10.1)\n",
      "Requirement already satisfied: traitlets==4.3.3 in /home/oem/UNB/DL/lib/python3.8/site-packages (from -r requirements.txt (line 34)) (4.3.3)\n",
      "Requirement already satisfied: wcwidth==0.2.5 in /home/oem/UNB/DL/lib/python3.8/site-packages (from -r requirements.txt (line 35)) (0.2.5)\n",
      "Requirement already satisfied: wrapt==1.12.1 in /home/oem/UNB/DL/lib/python3.8/site-packages (from -r requirements.txt (line 36)) (1.12.1)\n",
      "Requirement already satisfied: setuptools>=18.5 in /home/oem/UNB/DL/lib/python3.8/site-packages (from ipython==7.18.0->-r requirements.txt (line 6)) (47.1.1)\n"
     ]
    }
   ],
   "source": [
    "!pip install -r requirements.txt"
   ]
  },
  {
   "cell_type": "code",
   "execution_count": 2,
   "metadata": {},
   "outputs": [],
   "source": [
    "import numpy as np\n",
    "import matplotlib.pyplot as plt\n",
    "import pandas as pd"
   ]
  },
  {
   "cell_type": "markdown",
   "metadata": {},
   "source": [
    "## Data Pre-Processing\n",
    "### Importing the dataset"
   ]
  },
  {
   "cell_type": "code",
   "execution_count": 3,
   "metadata": {},
   "outputs": [],
   "source": [
    "dataset = pd.read_csv('Social_Network_Ads.csv')\n",
    "X = dataset.iloc[:, [2, 3]].values\n",
    "y = dataset.iloc[:, 4].values"
   ]
  },
  {
   "cell_type": "markdown",
   "metadata": {},
   "source": [
    "### Splitting the dataset into the Training set and Test set"
   ]
  },
  {
   "cell_type": "code",
   "execution_count": 7,
   "metadata": {},
   "outputs": [
    {
     "ename": "ModuleNotFoundError",
     "evalue": "No module named 'sklearn'",
     "output_type": "error",
     "traceback": [
      "\u001b[0;31m---------------------------------------------------------------------------\u001b[0m",
      "\u001b[0;31mModuleNotFoundError\u001b[0m                       Traceback (most recent call last)",
      "\u001b[0;32m<ipython-input-7-d18ed45d9350>\u001b[0m in \u001b[0;36m<module>\u001b[0;34m\u001b[0m\n\u001b[0;32m----> 1\u001b[0;31m \u001b[0;32mfrom\u001b[0m \u001b[0msklearn\u001b[0m\u001b[0;34m.\u001b[0m\u001b[0mcross_validation\u001b[0m \u001b[0;32mimport\u001b[0m \u001b[0mtrain_test_split\u001b[0m\u001b[0;34m\u001b[0m\u001b[0;34m\u001b[0m\u001b[0m\n\u001b[0m\u001b[1;32m      2\u001b[0m \u001b[0mX_train\u001b[0m\u001b[0;34m,\u001b[0m \u001b[0mX_test\u001b[0m\u001b[0;34m,\u001b[0m \u001b[0my_train\u001b[0m\u001b[0;34m,\u001b[0m \u001b[0my_test\u001b[0m \u001b[0;34m=\u001b[0m \u001b[0mtrain_test_split\u001b[0m\u001b[0;34m(\u001b[0m\u001b[0mX\u001b[0m\u001b[0;34m,\u001b[0m \u001b[0my\u001b[0m\u001b[0;34m,\u001b[0m \u001b[0mtest_size\u001b[0m \u001b[0;34m=\u001b[0m \u001b[0;36m0.25\u001b[0m\u001b[0;34m,\u001b[0m \u001b[0mrandom_state\u001b[0m \u001b[0;34m=\u001b[0m \u001b[0;36m0\u001b[0m\u001b[0;34m)\u001b[0m\u001b[0;34m\u001b[0m\u001b[0;34m\u001b[0m\u001b[0m\n",
      "\u001b[0;31mModuleNotFoundError\u001b[0m: No module named 'sklearn'"
     ]
    }
   ],
   "source": [
    "from sklearn.cross_validation import train_test_split\n",
    "X_train, X_test, y_train, y_test = train_test_split(X, y, test_size = 0.25, random_state = 0)"
   ]
  },
  {
   "cell_type": "code",
   "execution_count": null,
   "metadata": {},
   "outputs": [],
   "source": []
  },
  {
   "cell_type": "markdown",
   "metadata": {},
   "source": [
    "### Feature Scaling"
   ]
  },
  {
   "cell_type": "code",
   "execution_count": null,
   "metadata": {},
   "outputs": [],
   "source": [
    "from sklearn.preprocessing import StandardScaler\n",
    "sc = StandardScaler()\n",
    "X_train = sc.fit_transform(X_train)\n",
    "X_test = sc.transform(X_test)"
   ]
  },
  {
   "cell_type": "markdown",
   "metadata": {},
   "source": [
    "## Fitting classifier to the Training set"
   ]
  },
  {
   "cell_type": "code",
   "execution_count": null,
   "metadata": {},
   "outputs": [],
   "source": [
    "from sklearn.linear_model import PassiveAggressiveClassifier\n",
    "classifier = PassiveAggressiveClassifier(random_state = 0)\n",
    "classifier.fit(X_train,y_train)\n",
    "# Predicting the Test set results\n",
    "y_pred = classifier.predict(X_test)"
   ]
  },
  {
   "cell_type": "markdown",
   "metadata": {},
   "source": [
    "# Making the Confusion Matrix\n"
   ]
  },
  {
   "cell_type": "code",
   "execution_count": null,
   "metadata": {},
   "outputs": [],
   "source": [
    "from sklearn.metrics import confusion_matrix\n",
    "cm = confusion_matrix(y_test, y_pred)"
   ]
  },
  {
   "cell_type": "code",
   "execution_count": null,
   "metadata": {},
   "outputs": [],
   "source": [
    "print(cm)"
   ]
  },
  {
   "cell_type": "markdown",
   "metadata": {},
   "source": [
    "# Visualising\n",
    "\n",
    "## Training set results\n"
   ]
  },
  {
   "cell_type": "code",
   "execution_count": null,
   "metadata": {},
   "outputs": [],
   "source": [
    "from matplotlib.colors import ListedColormap\n",
    "X_set, y_set = X_train, y_train\n",
    "X1, X2 = np.meshgrid(np.arange(start = X_set[:, 0].min() - 1, stop = X_set[:, 0].max() + 1, step = 0.01),\n",
    "                     np.arange(start = X_set[:, 1].min() - 1, stop = X_set[:, 1].max() + 1, step = 0.01))\n",
    "plt.contourf(X1, X2, classifier.predict(np.array([X1.ravel(), X2.ravel()]).T).reshape(X1.shape),\n",
    "             alpha = 0.75, cmap = ListedColormap(('pink', 'lightgreen')))\n",
    "plt.xlim(X1.min(), X1.max())\n",
    "plt.ylim(X2.min(), X2.max())\n",
    "for i, j in enumerate(np.unique(y_set)):\n",
    "    plt.scatter(X_set[y_set == j, 0], X_set[y_set == j, 1],\n",
    "                c = ListedColormap(('red', 'green'))(i), label = j)\n",
    "plt.title('Classifier (Training set)')\n",
    "plt.xlabel('Age')\n",
    "plt.ylabel('Estimated Salary')\n",
    "plt.legend()\n",
    "plt.show()"
   ]
  },
  {
   "cell_type": "markdown",
   "metadata": {},
   "source": [
    "## Test set results"
   ]
  },
  {
   "cell_type": "code",
   "execution_count": null,
   "metadata": {},
   "outputs": [],
   "source": [
    "from matplotlib.colors import ListedColormap\n",
    "X_set, y_set = X_test, y_test\n",
    "X1, X2 = np.meshgrid(np.arange(start = X_set[:, 0].min() - 1, stop = X_set[:, 0].max() + 1, step = 0.01),\n",
    "                     np.arange(start = X_set[:, 1].min() - 1, stop = X_set[:, 1].max() + 1, step = 0.01))\n",
    "plt.contourf(X1, X2, classifier.predict(np.array([X1.ravel(), X2.ravel()]).T).reshape(X1.shape),\n",
    "             alpha = 0.75, cmap = ListedColormap(('pink', 'lightgreen')))\n",
    "plt.xlim(X1.min(), X1.max())\n",
    "plt.ylim(X2.min(), X2.max())\n",
    "for i, j in enumerate(np.unique(y_set)):\n",
    "    plt.scatter(X_set[y_set == j, 0], X_set[y_set == j, 1],\n",
    "                c = ListedColormap(('red', 'green'))(i), label = j)\n",
    "plt.title('Classifier (Test set)')\n",
    "plt.xlabel('Age')\n",
    "plt.ylabel('Estimated Salary')\n",
    "plt.legend()\n",
    "plt.show()"
   ]
  },
  {
   "cell_type": "markdown",
   "metadata": {},
   "source": [
    "# Awesome!"
   ]
  },
  {
   "cell_type": "markdown",
   "metadata": {},
   "source": [
    "### Credits\n",
    "based on superdatascience.com Machine Learning A-Z, by Kirill Eremenko and Hadelin de Ponteves. Thanks For sharing the knowleged!"
   ]
  },
  {
   "cell_type": "code",
   "execution_count": null,
   "metadata": {},
   "outputs": [],
   "source": []
  },
  {
   "cell_type": "code",
   "execution_count": null,
   "metadata": {},
   "outputs": [],
   "source": []
  }
 ],
 "metadata": {
  "kernelspec": {
   "display_name": "Python 3",
   "language": "python",
   "name": "python3"
  },
  "language_info": {
   "codemirror_mode": {
    "name": "ipython",
    "version": 3
   },
   "file_extension": ".py",
   "mimetype": "text/x-python",
   "name": "python",
   "nbconvert_exporter": "python",
   "pygments_lexer": "ipython3",
   "version": "3.8.2"
  }
 },
 "nbformat": 4,
 "nbformat_minor": 2
}
